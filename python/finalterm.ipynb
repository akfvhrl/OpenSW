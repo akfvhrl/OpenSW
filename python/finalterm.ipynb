{
 "cells": [
  {
   "cell_type": "code",
   "execution_count": 30,
   "metadata": {},
   "outputs": [
    {
     "name": "stdout",
     "output_type": "stream",
     "text": [
      "백신 제일 많이 맞은 날 :  2021-06-27\n",
      "백신 제일 적게 맞은 날 :  2020-12-05\n"
     ]
    }
   ],
   "source": [
    "import csv\n",
    "\n",
    "f = open(\"country_vaccinations.csv\")\n",
    "\n",
    "data = csv.reader(f)\n",
    "\n",
    "dic = {}\n",
    "for line in data:\n",
    "    if line[0] == \"country\":\n",
    "        continue\n",
    "    if line[2] in dic:\n",
    "        if line[7] == '':\n",
    "            continue\n",
    "        dic[line[2]] += float(line[7])\n",
    "    else:\n",
    "        if line[7] == '':\n",
    "            continue\n",
    "        dic[line[2]] = float(line[7]) \n",
    "\n",
    "max = 0\n",
    "min = 100000000000000000\n",
    "max_date = ''\n",
    "min_date =''\n",
    "for d in dic:\n",
    "    if(dic[d]>max):\n",
    "        max = dic[d]\n",
    "        max_date=d\n",
    "    if(dic[d]<min):\n",
    "        min = dic[d]\n",
    "        min_date=d\n",
    "\n",
    "print(\"백신 제일 많이 맞은 날 : \",max_date)\n",
    "print(\"백신 제일 적게 맞은 날 : \",min_date)"
   ]
  },
  {
   "cell_type": "code",
   "execution_count": 11,
   "metadata": {},
   "outputs": [
    {
     "name": "stdout",
     "output_type": "stream",
     "text": [
      "['Johnson&Johnson', 'Oxford/AstraZeneca', 'Pfizer/BioNTech', 'Sinopharm/Beijing', 'Sinovac', 'Sputnik V', 'Moderna', 'CanSino', 'Novavax', 'Sputnik Light', 'Covaxin', 'Sinopharm/Wuhan', 'ZF2001', 'Abdala', 'Soberana Plus', 'Soberana02', 'COVIran Barekat', 'FAKHRAVAC', 'Razi Cov Pars', 'SpikoGen', 'QazVac', 'EpiVacCorona', 'Medigen', 'Turkovac']\n"
     ]
    }
   ],
   "source": [
    "import numpy as np\n",
    "import pandas as pd\n",
    "import csv\n",
    "\n",
    "f = open(\"country_vaccinations.csv\")\n",
    "\n",
    "data = csv.reader(f)\n",
    "\n",
    "lst = []\n",
    "for line in data:\n",
    "    if line[0] == \"country\":\n",
    "        continue\n",
    "    lst.extend(line[12].split(', '))\n",
    "\n",
    "final_lst = []\n",
    "for i in lst:\n",
    "    if i in final_lst:\n",
    "        continue\n",
    "    else:\n",
    "        final_lst.append(i)\n",
    "\n",
    "print(final_lst)\n",
    "\n",
    "\n"
   ]
  }
 ],
 "metadata": {
  "interpreter": {
   "hash": "e0db671284eac6ff32f3d52246abf6a75fac634d534c481582b1dcdf29a8b864"
  },
  "kernelspec": {
   "display_name": "Python 3.9.7 ('base')",
   "language": "python",
   "name": "python3"
  },
  "language_info": {
   "codemirror_mode": {
    "name": "ipython",
    "version": 3
   },
   "file_extension": ".py",
   "mimetype": "text/x-python",
   "name": "python",
   "nbconvert_exporter": "python",
   "pygments_lexer": "ipython3",
   "version": "3.9.7"
  },
  "orig_nbformat": 4
 },
 "nbformat": 4,
 "nbformat_minor": 2
}
