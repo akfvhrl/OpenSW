{
 "cells": [
  {
   "cell_type": "code",
   "execution_count": 4,
   "id": "92e78ac6",
   "metadata": {},
   "outputs": [
    {
     "name": "stdout",
     "output_type": "stream",
     "text": [
      "{'파이썬': 2, '파일': 2, '읽기': 2, '예제입니다.': 2, '다양한': 1, '메소드를': 1, '공부해': 1, '보세요.': 1, '실력이': 1, '팍팍': 1, '늘': 1, '거에요~': 1, '단어': 1, '수를': 1, '카운트하는': 1, '실습': 1}\n"
     ]
    }
   ],
   "source": [
    "f = open(\"README.txt\", 'r')\n",
    "lines = f.readlines();\n",
    "dic = {}\n",
    "for line in lines:\n",
    "    line = line.strip()\n",
    "    lst = line.split(\" \")\n",
    "    for i in lst:\n",
    "        try: dic[i] += 1\n",
    "        except: dic[i]=1\n",
    "print(dic)"
   ]
  },
  {
   "cell_type": "code",
   "execution_count": 17,
   "id": "2090363a",
   "metadata": {},
   "outputs": [
    {
     "name": "stdout",
     "output_type": "stream",
     "text": [
      "x:1,y:2 \n",
      "x:4,y:6 \n",
      "x:2,y:3 \n",
      "x:5,y:7 \n"
     ]
    }
   ],
   "source": [
    "class Point:\n",
    "    def __init__(self, x, y):\n",
    "        self.x = x\n",
    "        self.y = y\n",
    "    def move(self, dx,dy):\n",
    "        self.x += dx\n",
    "        self.y += dy\n",
    "    def show(self):\n",
    "        print('x:{:d},y:{:d} '.format(self.x,self.y))\n",
    "class Box(Point):\n",
    "    def __init__(self, p1, p2):\n",
    "        self.p1 = p1\n",
    "        self.p2 = p2\n",
    "    def move(self, dx, dy):\n",
    "        self.p1.move(dx,dy)\n",
    "        self.p2.move(dx,dy)\n",
    "    def show(self):\n",
    "        self.p1.show()\n",
    "        self.p2.show()\n",
    "\n",
    "p1 = Point(1,2)\n",
    "p1.show()\n",
    "p2 = Point(4,6)\n",
    "p2.show()\n",
    "\n",
    "b = Box(p1,p2)\n",
    "b.move(1,1)\n",
    "b.show()"
   ]
  }
 ],
 "metadata": {
  "kernelspec": {
   "display_name": "Python 3 (ipykernel)",
   "language": "python",
   "name": "python3"
  },
  "language_info": {
   "codemirror_mode": {
    "name": "ipython",
    "version": 3
   },
   "file_extension": ".py",
   "mimetype": "text/x-python",
   "name": "python",
   "nbconvert_exporter": "python",
   "pygments_lexer": "ipython3",
   "version": "3.9.7"
  }
 },
 "nbformat": 4,
 "nbformat_minor": 5
}
